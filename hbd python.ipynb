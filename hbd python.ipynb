{
 "cells": [
  {
   "cell_type": "code",
   "execution_count": 1,
   "id": "16df6afe-2022-4e52-8e49-7754024cde7e",
   "metadata": {},
   "outputs": [],
   "source": [
    "import tkinter as tk\n",
    "CLOSE_AFTER_SECONDS = 5\n",
    "AGE_NUMBER = \"22\"\n",
    "\n",
    "def main():\n",
    "    root = tk.Tk()\n",
    "    root.title(\"H B D\")\n",
    "    root.configure(bg=\"black\")\n",
    "    root.attributes(\"-fullscreen\", True)\n",
    "    root.bind(\"<Escape>\", lambda e:root.destroy())\n",
    "    width = root.winfo_screenwidth()\n",
    "    height = root.winfo_screenheight()\n",
    "    canvas = tk.Canvas(root, width=width, height=height, highlightthickness=0, bg=\"black\")\n",
    "    canvas.pack(fill=\"both\", expand=True)\n",
    "    center_x, center_y = width // 2, height // 2\n",
    "    canvas.create_text(center_x, center_y, text=AGE_NUMBER, fill=\"white\", font=(\"Arial\", int(min(width, height) * 0.25), \"bold\"))\n",
    "    canvas.create_text(center_x, int(center_y - height * 0.25), text=\"H B D\", fill=\"white\", font=(\"Arial\", int(min(width, height) * 0.08), \"bold\"))\n",
    "    root.after(int(CLOSE_AFTER_SECONDS * 1000), root.destroy)"
   ]
  },
  {
   "cell_type": "code",
   "execution_count": null,
   "id": "3e86ff5c-1ca6-4e3e-ad84-efc6e3a60be6",
   "metadata": {},
   "outputs": [],
   "source": []
  }
 ],
 "metadata": {
  "kernelspec": {
   "display_name": "Python 3 (ipykernel)",
   "language": "python",
   "name": "python3"
  },
  "language_info": {
   "codemirror_mode": {
    "name": "ipython",
    "version": 3
   },
   "file_extension": ".py",
   "mimetype": "text/x-python",
   "name": "python",
   "nbconvert_exporter": "python",
   "pygments_lexer": "ipython3",
   "version": "3.12.1"
  }
 },
 "nbformat": 4,
 "nbformat_minor": 5
}
