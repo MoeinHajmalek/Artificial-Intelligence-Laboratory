{
 "cells": [
  {
   "cell_type": "code",
   "execution_count": null,
   "id": "88e4b015-d69a-42cc-83ff-19736c78925a",
   "metadata": {},
   "outputs": [],
   "source": []
  },
  {
   "cell_type": "code",
   "execution_count": null,
   "id": "5b87551c-afcc-427a-b9cb-ba1637eb3e66",
   "metadata": {},
   "outputs": [],
   "source": [
    "class EnigmaMachine:\n",
    "    def __init__(self,rotor_settings):\n",
    "        self.rotors=rotor_settings\n",
    "\n",
    "    def encode(self,massage):\n",
    "        return self._process_message(message, encode=True)\n",
    "\n",
    "    def decode(self,massage):\n",
    "        return self._process_message(message, encode=False)\n",
    "\n",
    "    def _process_message(self, message , encode):\n",
    "        processed_message = \"\"\n",
    "        for char in message:\n",
    "            if char.isalpha():\n",
    "                shift = self.rotors if encode else -self.rotors\n",
    "                index = (ord(char.lower()) - ord('a') + shift) % 26\n",
    "                processed_char = chr(index + ord('a'))\n",
    "                processed_message += processed_char\n",
    "            else:\n",
    "                processed_message += char  # Non-alphabetic characters remain unchanged\n",
    "        return processed_message\n",
    "\n",
    "def main():\n",
    "    print(\"Welcome to the Enigma Encoder/Decoder!\")\n",
    "    rotor_settings = int(input(\"Enter rotor settings (1-25): \"))\n",
    "    \n",
    "    if rotor_settings < 1 or rotor_settings > 25:\n",
    "        print(\"Please enter a valid rotor setting.\")\n",
    "        return\n",
    "\n",
    "    choice = input(\"Type 'encode' to encode or 'decode' to decode a message: \").strip().lower()\n",
    "    message = input(\"Enter the message: \")\n",
    "    \n",
    "    enigma = EnigmaMachine(rotor_settings)\n",
    "    \n",
    "    if choice == 'encode':\n",
    "        result = enigma.encode(message)\n",
    "        print(\"Encoded Message:\", result)\n",
    "    elif choice == 'decode':\n",
    "        result = enigma.decode(message)\n",
    "        print(\"Decoded Message:\", result)\n",
    "    else:\n",
    "        print(\"Invalid choice. Please type 'encode' or 'decode'.\")\n",
    "\n",
    "if __name__ == \"__main__\":\n",
    "    main()"
   ]
  }
 ],
 "metadata": {
  "kernelspec": {
   "display_name": "Python 3 (ipykernel)",
   "language": "python",
   "name": "python3"
  },
  "language_info": {
   "codemirror_mode": {
    "name": "ipython",
    "version": 3
   },
   "file_extension": ".py",
   "mimetype": "text/x-python",
   "name": "python",
   "nbconvert_exporter": "python",
   "pygments_lexer": "ipython3",
   "version": "3.12.1"
  }
 },
 "nbformat": 4,
 "nbformat_minor": 5
}
