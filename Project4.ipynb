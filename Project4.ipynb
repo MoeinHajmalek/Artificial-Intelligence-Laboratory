{
 "cells": [
  {
   "cell_type": "code",
   "execution_count": 8,
   "id": "262a2c50-9f05-413d-81bd-03e69f691ee2",
   "metadata": {},
   "outputs": [
    {
     "name": "stdout",
     "output_type": "stream",
     "text": [
      "iteration 0: w = 0.32, b = 0.12, f(w,b) = 20\n",
      "iteration 1: w = 0.5264, b = 0.2064, f(w,b) = 12.816\n",
      "iteration 2: w = 0.660608, b = 0.271488, f(w,b) = 9.9553536\n",
      "iteration 3: w = 0.74894336, b = 0.32307456, f(w,b) = 8.84170432512\n",
      "iteration 4: w = 0.8081349632, b = 0.36612433920000004, f(w,b) = 8.43421011443712\n",
      "iteration 5: w = 0.848815898624, b = 0.403793117184, f(w,b) = 8.312375133802384\n",
      "iteration 6: w = 0.87774471323648, b = 0.43808693403648, f(w,b) = 8.306322796899039\n",
      "iteration 7: w = 0.8992172600262656, b = 0.47028104580956165, f(w,b) = 8.34742645724719\n",
      "iteration 8: w = 0.9159640815129068, b = 0.5011862164387922, f(w,b) = 8.407964366090672\n",
      "iteration 9: w = 0.9297207948803992, b = 0.5313179753147951, f(w,b) = 8.476740339497164\n"
     ]
    }
   ],
   "source": [
    "data = [(1,3), (3,2)]\n",
    "\n",
    "def f(w, b):\n",
    "    return sum((y - (w*x - b))**2 for x, y in data)\n",
    "    \n",
    "def dw(w, b):\n",
    "    return sum(-2*x*(y - (w*x - b)) for x, y in data)\n",
    "    \n",
    "def db(w, b):\n",
    "    return sum(-2*(y - (w*x - b)) for x, y in data)\n",
    "\n",
    "w = 0\n",
    "b = 0\n",
    "alpha = 0.01\n",
    "\n",
    "for t in range(10):\n",
    "    value = f(w, b)\n",
    "    grad_w = dw(w, b)\n",
    "    grad_b = db(w, b)\n",
    "\n",
    "    # به‌روزرسانی w و b\n",
    "    w = w - alpha * grad_w\n",
    "    b = b - alpha * grad_b\n",
    "\n",
    "    print(\"iteration {}: w = {}, b = {}, f(w,b) = {}\".format(t, w, b, value))"
   ]
  },
  {
   "cell_type": "code",
   "execution_count": null,
   "id": "2b6d59dd-d46c-4ada-9ce1-c79a98e13290",
   "metadata": {},
   "outputs": [],
   "source": []
  }
 ],
 "metadata": {
  "kernelspec": {
   "display_name": "Python 3 (ipykernel)",
   "language": "python",
   "name": "python3"
  },
  "language_info": {
   "codemirror_mode": {
    "name": "ipython",
    "version": 3
   },
   "file_extension": ".py",
   "mimetype": "text/x-python",
   "name": "python",
   "nbconvert_exporter": "python",
   "pygments_lexer": "ipython3",
   "version": "3.12.1"
  }
 },
 "nbformat": 4,
 "nbformat_minor": 5
}
