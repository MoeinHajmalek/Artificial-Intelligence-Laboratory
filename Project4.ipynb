{
 "cells": [
  {
   "cell_type": "code",
   "execution_count": 1,
   "id": "262a2c50-9f05-413d-81bd-03e69f691ee2",
   "metadata": {},
   "outputs": [
    {
     "name": "stdout",
     "output_type": "stream",
     "text": [
      "iteration 0: w = 0.12, b = 0.08, f(w,b) = 10\n",
      "iteration 1: w = 0.2224, b = 0.15360000000000001, f(w,b) = 9.28\n",
      "iteration 2: w = 0.310208, b = 0.22195200000000004, f(w,b) = 8.8285184\n",
      "iteration 3: w = 0.38592256, b = 0.28601344000000006, f(w,b) = 8.563125125120001\n",
      "iteration 4: w = 0.4516191232, b = 0.3465801728000001, f(w,b) = 8.426974087217152\n",
      "iteration 5: w = 0.5090217123840001, b = 0.4043138498560001, f(w,b) = 8.380867990688\n",
      "iteration 6: w = 0.55956247789568, b = 0.4597646668595201, f(w,b) = 8.397784439840008\n",
      "iteration 7: w = 0.6044311556653056, b = 0.5133902553022465, f(w,b) = 8.459099914706067\n",
      "iteration 8: w = 0.6446161449564242, b = 0.5655713730611118, f(w,b) = 8.55198497974474\n",
      "iteration 9: w = 0.6809386258100283, b = 0.6166249363870424, f(w,b) = 8.66760743884616\n"
     ]
    }
   ],
   "source": [
    "data = [(1,3), (3,1)]\n",
    "\n",
    "def f(w, b):\n",
    "    return sum((y - (w*x - b))**2 for x, y in data)\n",
    "    \n",
    "def dw(w, b):\n",
    "    return sum(-2*x*(y - (w*x - b)) for x, y in data)\n",
    "    \n",
    "def db(w, b):\n",
    "    return sum(-2*(y - (w*x - b)) for x, y in data)\n",
    "\n",
    "w = 0\n",
    "b = 0\n",
    "alpha = 0.01\n",
    "\n",
    "for t in range(10):\n",
    "    value = f(w, b)\n",
    "    grad_w = dw(w, b)\n",
    "    grad_b = db(w, b)\n",
    "    \n",
    "    w = w - alpha * grad_w\n",
    "    b = b - alpha * grad_b\n",
    "\n",
    "    print(\"iteration {}: w = {}, b = {}, f(w,b) = {}\".format(t, w, b, value))\n",
    "\n",
    "#با کمی کمک از Chatgpt"
   ]
  },
  {
   "cell_type": "code",
   "execution_count": null,
   "id": "2b6d59dd-d46c-4ada-9ce1-c79a98e13290",
   "metadata": {},
   "outputs": [],
   "source": []
  }
 ],
 "metadata": {
  "kernelspec": {
   "display_name": "Python 3 (ipykernel)",
   "language": "python",
   "name": "python3"
  },
  "language_info": {
   "codemirror_mode": {
    "name": "ipython",
    "version": 3
   },
   "file_extension": ".py",
   "mimetype": "text/x-python",
   "name": "python",
   "nbconvert_exporter": "python",
   "pygments_lexer": "ipython3",
   "version": "3.12.1"
  }
 },
 "nbformat": 4,
 "nbformat_minor": 5
}
