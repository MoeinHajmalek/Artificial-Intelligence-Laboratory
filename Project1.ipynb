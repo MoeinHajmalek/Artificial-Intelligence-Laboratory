{
 "cells": [
  {
   "cell_type": "code",
   "execution_count": 1,
   "id": "c1699afc-3efb-4440-8b8a-efbd25536921",
   "metadata": {},
   "outputs": [],
   "source": [
    "def dynamicex(s, t):\n",
    "    def recurse(m, n):\n",
    "        if m == 0:\n",
    "            result = n\n",
    "        elif n == 0:\n",
    "            result = m\n",
    "\n",
    "        elif s[m-1] == t[n-1]:\n",
    "            result = recurse(m-1, n-1)\n",
    "\n",
    "        else:\n",
    "            subcost = 1 + recurse(m-1, n-1)\n",
    "            inscost = 1 + recurse(m, n-1)\n",
    "            delcost = 1 + recurse(m-1, n)\n",
    "            result = min(subcost, inscost, delcost)\n",
    "\n",
    "        return result\n",
    "\n",
    "    return recurse(len(s), len(t))"
   ]
  },
  {
   "cell_type": "code",
   "execution_count": 2,
   "id": "3dec7716-19c6-448c-81dd-a78d1d9b2cc2",
   "metadata": {},
   "outputs": [
    {
     "data": {
      "text/plain": [
       "2"
      ]
     },
     "execution_count": 2,
     "metadata": {},
     "output_type": "execute_result"
    }
   ],
   "source": [
    "dynamicex(\"Ca!\", \"da:\")"
   ]
  },
  {
   "cell_type": "code",
   "execution_count": null,
   "id": "7a929c52-065d-480e-a7d3-505d4c84d344",
   "metadata": {},
   "outputs": [],
   "source": []
  }
 ],
 "metadata": {
  "kernelspec": {
   "display_name": "Python 3 (ipykernel)",
   "language": "python",
   "name": "python3"
  },
  "language_info": {
   "codemirror_mode": {
    "name": "ipython",
    "version": 3
   },
   "file_extension": ".py",
   "mimetype": "text/x-python",
   "name": "python",
   "nbconvert_exporter": "python",
   "pygments_lexer": "ipython3",
   "version": "3.12.1"
  }
 },
 "nbformat": 4,
 "nbformat_minor": 5
}
